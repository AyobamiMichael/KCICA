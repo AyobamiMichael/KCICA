{
  "nbformat": 4,
  "nbformat_minor": 0,
  "metadata": {
    "colab": {
      "provenance": [],
      "gpuType": "T4",
      "authorship_tag": "ABX9TyNnubhUtRf3Zgfjpa4uNzdp",
      "include_colab_link": true
    },
    "kernelspec": {
      "name": "python3",
      "display_name": "Python 3"
    },
    "language_info": {
      "name": "python"
    },
    "accelerator": "GPU"
  },
  "cells": [
    {
      "cell_type": "markdown",
      "metadata": {
        "id": "view-in-github",
        "colab_type": "text"
      },
      "source": [
        "<a href=\"https://colab.research.google.com/github/AyobamiMichael/KCICA/blob/main/Kernel_based_Contrastive_Independent_Component_Analysis_(KCICA).ipynb\" target=\"_parent\"><img src=\"https://colab.research.google.com/assets/colab-badge.svg\" alt=\"Open In Colab\"/></a>"
      ]
    },
    {
      "cell_type": "code",
      "source": [
        "import torch\n",
        "import torch.nn as nn\n",
        "import torch.optim as optim"
      ],
      "metadata": {
        "id": "TSn9JmdhHNUB"
      },
      "execution_count": 1,
      "outputs": []
    },
    {
      "cell_type": "code",
      "source": [
        "def rbf_kernel(x, sigma=1.0):\n",
        "    \"\"\" Compute the RBF Kernel Gram Matrix. \"\"\"\n",
        "    pairwise_sq_dists = torch.cdist(x, x, p=2) ** 2\n",
        "    return torch.exp(-pairwise_sq_dists / (2 * sigma ** 2))"
      ],
      "metadata": {
        "id": "CfsNUi4dHAvL"
      },
      "execution_count": 2,
      "outputs": []
    },
    {
      "cell_type": "code",
      "source": [
        "def hsic_loss(X, Y):\n",
        "    \"\"\" Compute HSIC between two feature maps X and Y. \"\"\"\n",
        "    n = X.size(0)\n",
        "    K = rbf_kernel(X)\n",
        "    L = rbf_kernel(Y)\n",
        "    H = torch.eye(n) - (1/n) * torch.ones((n, n))  # Centering matrix\n",
        "    H = H.to(X.device)\n",
        "    HSIC = torch.trace(K @ H @ L @ H) / (n - 1) ** 2\n",
        "    return HSIC"
      ],
      "metadata": {
        "id": "Szqef41LHbtT"
      },
      "execution_count": 3,
      "outputs": []
    },
    {
      "cell_type": "code",
      "source": [
        "class KCICA(nn.Module):\n",
        "    def __init__(self, input_dim, output_dim, hidden_dim=128):\n",
        "        super(KCICA, self).__init__()\n",
        "        self.encoder = nn.Sequential(\n",
        "            nn.Linear(input_dim, hidden_dim),\n",
        "            nn.ReLU(),\n",
        "            nn.Linear(hidden_dim, output_dim)\n",
        "        )\n",
        "\n",
        "    def forward(self, x):\n",
        "        return self.encoder(x)"
      ],
      "metadata": {
        "id": "7ZNyvYLQHr5k"
      },
      "execution_count": 5,
      "outputs": []
    },
    {
      "cell_type": "code",
      "source": [
        "# Simulated Example\n",
        "device = torch.device(\"cuda\" if torch.cuda.is_available() else \"cpu\")\n",
        "X = torch.randn(100, 5).to(device)  # Simulated mixed signals\n",
        "neg_samples = torch.randn(100, 5).to(device)  # Negative samples\n",
        "\n",
        "# Model & Optimizer\n",
        "model = KCICA(input_dim=5, output_dim=5).to(device)\n",
        "optimizer = optim.Adam(model.parameters(), lr=0.01)\n"
      ],
      "metadata": {
        "id": "tQTaEn1JHsPO"
      },
      "execution_count": 6,
      "outputs": []
    },
    {
      "cell_type": "code",
      "source": [
        "# Training\n",
        "for epoch in range(1000):\n",
        "    optimizer.zero_grad()\n",
        "    S = model(X)  # Recovered sources\n",
        "    loss = hsic_loss(S, S) - hsic_loss(S, neg_samples)  # Contrastive HSIC Loss\n",
        "    loss.backward()\n",
        "    optimizer.step()\n",
        "\n",
        "    if epoch % 100 == 0:\n",
        "        print(f\"Epoch {epoch}, Loss: {loss.item():.4f}\")\n",
        "\n",
        "print(\"Training Complete! 🚀\")\n"
      ],
      "metadata": {
        "colab": {
          "base_uri": "https://localhost:8080/"
        },
        "id": "FzrW2BxWHsaE",
        "outputId": "a418cdf2-03e2-4be0-ea5e-6050a630b45f"
      },
      "execution_count": 7,
      "outputs": [
        {
          "output_type": "stream",
          "name": "stdout",
          "text": [
            "Epoch 0, Loss: 0.0067\n",
            "Epoch 100, Loss: -0.0012\n",
            "Epoch 200, Loss: -0.0026\n",
            "Epoch 300, Loss: -0.0033\n",
            "Epoch 400, Loss: -0.0034\n",
            "Epoch 500, Loss: -0.0035\n",
            "Epoch 600, Loss: -0.0035\n",
            "Epoch 700, Loss: -0.0035\n",
            "Epoch 800, Loss: -0.0035\n",
            "Epoch 900, Loss: -0.0035\n",
            "Training Complete! 🚀\n"
          ]
        }
      ]
    }
  ]
}